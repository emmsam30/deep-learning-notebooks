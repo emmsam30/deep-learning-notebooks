{
 "cells": [
  {
   "cell_type": "code",
   "execution_count": 1,
   "metadata": {},
   "outputs": [],
   "source": [
    "import torch\n",
    "import torch.distributions as dist"
   ]
  },
  {
   "cell_type": "code",
   "execution_count": 9,
   "metadata": {},
   "outputs": [
    {
     "name": "stdout",
     "output_type": "stream",
     "text": [
      "Bernoulli(probs: tensor([0.5000]))\n",
      "tensor([1.])\n",
      "tensor([0.])\n",
      "tensor([0.])\n",
      "tensor([0.])\n",
      "tensor([0.])\n",
      "tensor([0.])\n",
      "tensor([1.])\n",
      "tensor([1.])\n",
      "tensor([1.])\n",
      "tensor([0.])\n"
     ]
    }
   ],
   "source": [
    "# Bernoulli distribution\n",
    "\n",
    "bernoulli = dist.Bernoulli((torch.tensor([0.5])))\n",
    "print(bernoulli)\n",
    "for _ in range(10):\n",
    "    print(bernoulli.sample())"
   ]
  },
  {
   "cell_type": "code",
   "execution_count": 11,
   "metadata": {},
   "outputs": [
    {
     "name": "stdout",
     "output_type": "stream",
     "text": [
      "Mean: 0.5070000290870667\n",
      "Varience: 0.25020119547843933\n"
     ]
    }
   ],
   "source": [
    "samples = [bernoulli.sample() for _ in range(1000)]\n",
    "print(f\"Mean: {torch.mean((torch.stack(samples)))}\")\n",
    "print(f\"Varience: {torch.var((torch.stack(samples)))}\")"
   ]
  },
  {
   "cell_type": "code",
   "execution_count": 16,
   "metadata": {},
   "outputs": [
    {
     "name": "stdout",
     "output_type": "stream",
     "text": [
      "tensor([-0.3380])\n",
      "tensor([-0.0534])\n",
      "tensor([2.0818])\n",
      "tensor([0.8129])\n",
      "tensor([-0.2826])\n",
      "tensor([-2.1263])\n",
      "tensor([0.0163])\n",
      "tensor([-1.0069])\n",
      "tensor([-1.3732])\n",
      "tensor([-0.9342])\n"
     ]
    }
   ],
   "source": [
    "# Normal distribution\n",
    "normal = dist.Normal(torch.tensor([0.0]), torch.tensor([1.0]))\n",
    "for _ in range(10):\n",
    "    print(normal.sample())"
   ]
  },
  {
   "cell_type": "code",
   "execution_count": 20,
   "metadata": {},
   "outputs": [
    {
     "name": "stdout",
     "output_type": "stream",
     "text": [
      "Mean: 0.016579801216721535\n",
      "Varience: 0.9836633801460266\n"
     ]
    }
   ],
   "source": [
    "samples = [normal.sample() for _ in range(1000)]\n",
    "print(f\"Mean: {torch.mean((torch.stack(samples)))}\")\n",
    "print(f\"Varience: {torch.var((torch.stack(samples)))}\")"
   ]
  }
 ],
 "metadata": {
  "kernelspec": {
   "display_name": "base",
   "language": "python",
   "name": "python3"
  },
  "language_info": {
   "codemirror_mode": {
    "name": "ipython",
    "version": 3
   },
   "file_extension": ".py",
   "mimetype": "text/x-python",
   "name": "python",
   "nbconvert_exporter": "python",
   "pygments_lexer": "ipython3",
   "version": "3.12.3"
  }
 },
 "nbformat": 4,
 "nbformat_minor": 2
}
