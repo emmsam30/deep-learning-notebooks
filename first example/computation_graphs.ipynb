{
 "cells": [
  {
   "cell_type": "code",
   "execution_count": 1,
   "metadata": {},
   "outputs": [],
   "source": [
    "import torch"
   ]
  },
  {
   "cell_type": "code",
   "execution_count": 2,
   "metadata": {},
   "outputs": [
    {
     "data": {
      "text/plain": [
       "tensor([-0.0661, -0.4358,  0.1438,  1.6708,  2.9624,  1.5342,  0.7558,  0.1996,\n",
       "        -1.2178, -1.8280], requires_grad=True)"
      ]
     },
     "execution_count": 2,
     "metadata": {},
     "output_type": "execute_result"
    }
   ],
   "source": [
    "y = torch.randn(10)\n",
    "x = torch.randn(10, requires_grad=True)\n",
    "\n",
    "x"
   ]
  },
  {
   "cell_type": "code",
   "execution_count": 3,
   "metadata": {},
   "outputs": [
    {
     "data": {
      "text/plain": [
       "tensor(1.9681)"
      ]
     },
     "execution_count": 3,
     "metadata": {},
     "output_type": "execute_result"
    }
   ],
   "source": [
    "(y**2).mean()"
   ]
  },
  {
   "cell_type": "code",
   "execution_count": 4,
   "metadata": {},
   "outputs": [
    {
     "name": "stdout",
     "output_type": "stream",
     "text": [
      "tensor(1.9572, grad_fn=<MeanBackward0>)\n"
     ]
    }
   ],
   "source": [
    "b = (x**2).mean()\n",
    "print(b)\n",
    "b.backward()"
   ]
  },
  {
   "cell_type": "code",
   "execution_count": 5,
   "metadata": {},
   "outputs": [
    {
     "name": "stdout",
     "output_type": "stream",
     "text": [
      "tensor([-0.0132, -0.0872,  0.0288,  0.3342,  0.5925,  0.3068,  0.1512,  0.0399,\n",
      "        -0.2436, -0.3656], grad_fn=<MulBackward0>)\n",
      "tensor([-0.0132, -0.0872,  0.0288,  0.3342,  0.5925,  0.3068,  0.1512,  0.0399,\n",
      "        -0.2436, -0.3656])\n"
     ]
    }
   ],
   "source": [
    "print(x / 10 * 2)\n",
    "print(x.grad)"
   ]
  },
  {
   "cell_type": "code",
   "execution_count": 13,
   "metadata": {},
   "outputs": [
    {
     "data": {
      "text/plain": [
       "12582912"
      ]
     },
     "execution_count": 13,
     "metadata": {},
     "output_type": "execute_result"
    }
   ],
   "source": [
    "torch.cuda.memory_allocated()"
   ]
  },
  {
   "cell_type": "code",
   "execution_count": 14,
   "metadata": {},
   "outputs": [
    {
     "data": {
      "text/plain": [
       "16.0"
      ]
     },
     "execution_count": 14,
     "metadata": {},
     "output_type": "execute_result"
    }
   ],
   "source": [
    "x = torch.randn(2**20, requires_grad=True, device='cuda')\n",
    "torch.cuda.memory_allocated() / 1024 / 1024   "
   ]
  },
  {
   "cell_type": "code",
   "execution_count": 15,
   "metadata": {},
   "outputs": [
    {
     "data": {
      "text/plain": [
       "404.0"
      ]
     },
     "execution_count": 15,
     "metadata": {},
     "output_type": "execute_result"
    }
   ],
   "source": [
    "b = x\n",
    "for _ in range(100):\n",
    "    b = torch.relu(b)\n",
    "torch.cuda.memory_allocated() / 1024 / 1024   "
   ]
  },
  {
   "cell_type": "code",
   "execution_count": 16,
   "metadata": {},
   "outputs": [
    {
     "data": {
      "text/plain": [
       "12.0"
      ]
     },
     "execution_count": 16,
     "metadata": {},
     "output_type": "execute_result"
    }
   ],
   "source": [
    "b.sum().backward()\n",
    "torch.cuda.memory_allocated() / 1024 / 1024   "
   ]
  },
  {
   "cell_type": "code",
   "execution_count": null,
   "metadata": {},
   "outputs": [],
   "source": [
    "x = torch.tensor(2.0, requires_grad=True)\n",
    "\n",
    "y = x ** 2 + 3 * x + 1\n",
    "\n",
    "print(\"y:\", y)\n",
    "\n",
    "y.backward()\n",
    "\n",
    "print(\"x.grad:\", x.grad)  \n",
    "\n",
    "print(\"y.grad_fn:\", y.grad_fn)\n",
    "print(\"x.grad_fn:\", x.grad_fn)  "
   ]
  }
 ],
 "metadata": {
  "kernelspec": {
   "display_name": "base",
   "language": "python",
   "name": "python3"
  },
  "language_info": {
   "codemirror_mode": {
    "name": "ipython",
    "version": 3
   },
   "file_extension": ".py",
   "mimetype": "text/x-python",
   "name": "python",
   "nbconvert_exporter": "python",
   "pygments_lexer": "ipython3",
   "version": "3.12.3"
  }
 },
 "nbformat": 4,
 "nbformat_minor": 2
}
