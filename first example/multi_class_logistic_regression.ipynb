{
 "cells": [
  {
   "cell_type": "code",
   "execution_count": null,
   "metadata": {},
   "outputs": [],
   "source": [
    "import torch\n",
    "import torch.nn as nn"
   ]
  },
  {
   "cell_type": "markdown",
   "metadata": {},
   "source": [
    "**MultiClassClassificationSoftmax Notes**\n",
    "\n",
    "$ \\mathbf{x} \\in \\mathbb{R}^n$ be the input feature vector\n",
    "\n",
    "$W \\in \\mathbb{R}^{C \\times n}$ be the weight matrix\n",
    "\n",
    "$b \\in \\mathbb{R}^C$ be the bias vector\n",
    "\n",
    "$C$ be the number of classes\n",
    "\n",
    "The model computes the class scores:\n",
    "$$\n",
    "z = W\\mathbf{x} + b\n",
    "$$\n",
    "\n",
    "The softmax function converts these scores into probabilities:\n",
    "$$\n",
    "\\text{softmax}(z_i) = \\frac{e^{z_i}}{\\sum_{j=1}^C e^{z_j}}\n",
    "$$\n",
    "\n",
    "where $z_i$ is the score for class $i$.\n",
    "\n",
    "**Interpretation:**\n",
    "- The output is a probability distribution over $C$ classes.\n",
    "- Each element is in $[0, 1]$ and the sum over all classes is $1$.\n",
    "- The predicted class is usually $\\arg\\max_i \\text{softmax}(z_i)$.\n",
    "\n",
    "**Usage:**\n",
    "- Suitable for multi-class classification where each input belongs to exactly one class.\n",
    "- Commonly used with the cross-entropy loss"
   ]
  },
  {
   "cell_type": "code",
   "execution_count": null,
   "metadata": {},
   "outputs": [],
   "source": [
    "class MultiClassClassificationSoftmax(torch.nn.Module):\n",
    "    def __init__(self, input_dim, n_classes):\n",
    "        super().__init__()\n",
    "        self.fc = torch.nn.Linear(input_dim, n_classes)\n",
    "\n",
    "    def forward(self, x):\n",
    "        return nn.functional.softmax(self.fc(x), dim=1)"
   ]
  },
  {
   "cell_type": "code",
   "execution_count": null,
   "metadata": {},
   "outputs": [
    {
     "data": {
      "text/plain": [
       "tensor([[0.1124, 0.4962, 0.2699, 0.1215]], grad_fn=<SoftmaxBackward0>)"
      ]
     },
     "execution_count": 7,
     "metadata": {},
     "output_type": "execute_result"
    }
   ],
   "source": [
    "model = MultiClassClassificationSoftmax(10, 4)\n",
    "x = torch.ones(1, 10)\n",
    "model(x)"
   ]
  },
  {
   "cell_type": "code",
   "execution_count": 8,
   "metadata": {},
   "outputs": [
    {
     "data": {
      "text/plain": [
       "tensor([1.], grad_fn=<SumBackward1>)"
      ]
     },
     "execution_count": 8,
     "metadata": {},
     "output_type": "execute_result"
    }
   ],
   "source": [
    "model(x).sum(dim=1)"
   ]
  },
  {
   "cell_type": "code",
   "execution_count": 20,
   "metadata": {},
   "outputs": [],
   "source": [
    "class MultiBinaryClassificationSigmoid(torch.nn.Module):\n",
    "    def __init__(self, input_dim, n_classes):\n",
    "        super().__init__()\n",
    "        self.fc = torch.nn.Linear(input_dim, n_classes)\n",
    "\n",
    "    def forward(self, x):\n",
    "        return nn.functional.sigmoid(self.fc(x))"
   ]
  },
  {
   "cell_type": "code",
   "execution_count": 21,
   "metadata": {},
   "outputs": [
    {
     "data": {
      "text/plain": [
       "tensor([[0.6422, 0.5714, 0.2768, 0.5464]], grad_fn=<SigmoidBackward0>)"
      ]
     },
     "execution_count": 21,
     "metadata": {},
     "output_type": "execute_result"
    }
   ],
   "source": [
    "model = MultiBinaryClassificationSigmoid(10, 4)\n",
    "x = torch.ones(1, 10)\n",
    "model(x)"
   ]
  },
  {
   "cell_type": "code",
   "execution_count": 22,
   "metadata": {},
   "outputs": [
    {
     "data": {
      "text/plain": [
       "tensor([2.0367], grad_fn=<SumBackward1>)"
      ]
     },
     "execution_count": 22,
     "metadata": {},
     "output_type": "execute_result"
    }
   ],
   "source": [
    "model(x).sum(dim=1)"
   ]
  }
 ],
 "metadata": {
  "kernelspec": {
   "display_name": "base",
   "language": "python",
   "name": "python3"
  },
  "language_info": {
   "codemirror_mode": {
    "name": "ipython",
    "version": 3
   },
   "file_extension": ".py",
   "mimetype": "text/x-python",
   "name": "python",
   "nbconvert_exporter": "python",
   "pygments_lexer": "ipython3",
   "version": "3.12.3"
  }
 },
 "nbformat": 4,
 "nbformat_minor": 2
}
