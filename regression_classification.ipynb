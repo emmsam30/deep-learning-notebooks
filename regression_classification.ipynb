{
  "nbformat": 4,
  "nbformat_minor": 0,
  "metadata": {
    "colab": {
      "provenance": []
    },
    "kernelspec": {
      "name": "python3",
      "display_name": "Python 3"
    },
    "language_info": {
      "name": "python"
    }
  },
  "cells": [
    {
      "cell_type": "markdown",
      "source": [
        "**Linear Regression with pytorch**\n",
        "\n",
        "Fits a line to some data, then you can estimate real valued outputs to this line\n",
        "\n",
        "$f_θ \\; : \\; \\mathbb{R}^n \\, → \\mathbb{R}^d$\n",
        "\n",
        "Column vector input features: $ \\mathbf{x} \\, ∈ \\, \\mathbb{R}^n$\n",
        "\n",
        "Parameters: $θ \\, = \\, (W, \\,b)$\n",
        "\n",
        "Matrix of weights: $ W \\, ∈ \\, \\mathbb{R}^{m \\times n}$\n",
        "\n",
        "Bias: $b \\, \\in \\, \\mathbb{R}$\n",
        "\n",
        "$f_θ(\\mathbf{x}) = W\\mathbf{x} \\, + b$"
      ],
      "metadata": {
        "id": "zCo3wsb-0HDL"
      }
    },
    {
      "cell_type": "code",
      "source": [
        "import torch\n",
        "import torch.nn as nn\n",
        "\n",
        "# Here we are making a linear regression model using pytorch\n",
        "# There are 10 inputs (features) and 1 output\n",
        "# Vector input x consists of 10 values\n",
        "# Output is a scalar\n",
        "model = nn.Linear(10, 1)"
      ],
      "metadata": {
        "id": "XLhO7ObUzT3F"
      },
      "execution_count": 15,
      "outputs": []
    },
    {
      "cell_type": "code",
      "source": [
        "# Here are the dimensions of weight matrix\n",
        "weight_matrix = model.weight\n",
        "print(f\"{weight_matrix.shape = }\")\n",
        "\n",
        "# Here is bias\n",
        "print(f\"{model.bias = }\")"
      ],
      "metadata": {
        "colab": {
          "base_uri": "https://localhost:8080/"
        },
        "id": "-_Ckgi6pkpcW",
        "outputId": "996ae078-1a21-4e2b-8a31-52eafa9a65cc"
      },
      "execution_count": 9,
      "outputs": [
        {
          "output_type": "stream",
          "name": "stdout",
          "text": [
            "weight_matrix.shape = torch.Size([1, 10])\n",
            "model.bias = Parameter containing:\n",
            "tensor([-0.1531], requires_grad=True)\n"
          ]
        }
      ]
    },
    {
      "cell_type": "code",
      "source": [
        "# Make actual input to feed into model\n",
        "x = torch.rand(10)\n",
        "model(x)"
      ],
      "metadata": {
        "colab": {
          "base_uri": "https://localhost:8080/"
        },
        "id": "hPQxueYUkk3u",
        "outputId": "fa75c000-df16-44f6-d227-8acafbb398e8"
      },
      "execution_count": 8,
      "outputs": [
        {
          "output_type": "execute_result",
          "data": {
            "text/plain": [
              "tensor([-0.0249], grad_fn=<ViewBackward0>)"
            ]
          },
          "metadata": {},
          "execution_count": 8
        }
      ]
    },
    {
      "cell_type": "markdown",
      "source": [
        "**Linear Binary Regression with pytorch**\n",
        "\n",
        "Uses the same line formula in linear regression to classify data into two classes, either on one side of the line, or the other. We do this by creating probabilities for inputs.\n",
        "\n",
        "$f_θ \\; : \\; \\mathbb{R}^n \\, → \\, [0, \\, 1]$\n",
        "\n",
        "Column vector input features: $ \\mathbf{x} \\, ∈ \\, \\mathbb{R}^n \\; , \\; \\mathbf{x} \\, = \\, [Φ_1, Φ_2, \\,..., \\,Φ_n]^T$\n",
        "\n",
        "Parameters: $θ \\, = \\, (W, \\,b)$\n",
        "\n",
        "Matrix of weights: $ W \\, ∈ \\, \\mathbb{R}^{m \\times n}$\n",
        "\n",
        "Bias: $b \\, \\in \\, \\mathbb{R}$\n",
        "\n",
        "$f_θ(\\mathbf{x}) = σ( W\\mathbf{x} \\, + b)$\n",
        "\n",
        "$σ(x) \\, = \\frac{\\, 1 } {1 \\, + \\, e^{-x}}$"
      ],
      "metadata": {
        "id": "bX-4VilkD5Jc"
      }
    },
    {
      "cell_type": "code",
      "source": [
        "class LinearClassifier(torch.nn.Module):\n",
        "  def __init__(self, input_dim, output_dim):\n",
        "    super().__init__()\n",
        "    self.fc = torch.nn.Linear(input_dim, output_dim)\n",
        "  def forward(self, x):\n",
        "    return nn.functional.sigmoid(self.fc(x))"
      ],
      "metadata": {
        "id": "XyyLbXxn_eWy"
      },
      "execution_count": 57,
      "outputs": []
    },
    {
      "cell_type": "code",
      "source": [
        "  model = LinearClassifier(40, 1)\n",
        "  print(model)"
      ],
      "metadata": {
        "colab": {
          "base_uri": "https://localhost:8080/"
        },
        "id": "flIQxIQgpJCL",
        "outputId": "112039b7-64c9-4088-e8d6-043aae322074"
      },
      "execution_count": 61,
      "outputs": [
        {
          "output_type": "stream",
          "name": "stdout",
          "text": [
            "LinearClassifier(\n",
            "  (fc): Linear(in_features=40, out_features=1, bias=True)\n",
            ")\n"
          ]
        }
      ]
    },
    {
      "cell_type": "code",
      "source": [
        "print(model.fc.weight.shape)"
      ],
      "metadata": {
        "colab": {
          "base_uri": "https://localhost:8080/"
        },
        "id": "7vw7IVN8pULE",
        "outputId": "85f1cb00-11ee-4c8e-9efb-01c69931485f"
      },
      "execution_count": 62,
      "outputs": [
        {
          "output_type": "stream",
          "name": "stdout",
          "text": [
            "torch.Size([1, 40])\n"
          ]
        }
      ]
    },
    {
      "cell_type": "code",
      "source": [
        "x = torch.rand(9, 40)\n",
        "output = model(x)\n",
        "print(f\"{output.shape = }\")\n",
        "print(f\"{output = }\")"
      ],
      "metadata": {
        "colab": {
          "base_uri": "https://localhost:8080/"
        },
        "id": "lFLfMXwKpe_y",
        "outputId": "a0415980-512e-441e-bcd5-4e0921346303"
      },
      "execution_count": 70,
      "outputs": [
        {
          "output_type": "stream",
          "name": "stdout",
          "text": [
            "output.shape = torch.Size([9, 1])\n",
            "output = tensor([[0.4299],\n",
            "        [0.4510],\n",
            "        [0.4834],\n",
            "        [0.4626],\n",
            "        [0.5518],\n",
            "        [0.5173],\n",
            "        [0.5075],\n",
            "        [0.4867],\n",
            "        [0.4780]], grad_fn=<SigmoidBackward0>)\n"
          ]
        }
      ]
    }
  ]
}