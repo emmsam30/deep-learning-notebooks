{
 "cells": [
  {
   "cell_type": "code",
   "execution_count": 1,
   "id": "c2d57a9e",
   "metadata": {},
   "outputs": [],
   "source": [
    "import torch"
   ]
  },
  {
   "cell_type": "code",
   "execution_count": 2,
   "id": "5be96f19",
   "metadata": {},
   "outputs": [],
   "source": [
    "# Dummy dataset\n",
    "X = torch.randn(100, 5)\n",
    "y = torch.randn(100, 1)"
   ]
  },
  {
   "cell_type": "code",
   "execution_count": 3,
   "id": "6e6ad0de",
   "metadata": {},
   "outputs": [],
   "source": [
    "# Simple linear model\n",
    "w = torch.randn(5, 1, requires_grad=True)"
   ]
  },
  {
   "cell_type": "code",
   "execution_count": 4,
   "id": "a2d5f9bd",
   "metadata": {},
   "outputs": [],
   "source": [
    "# Hyperparameters\n",
    "lr = 0.1\n",
    "epochs = 5\n",
    "batch_size = 10"
   ]
  },
  {
   "cell_type": "code",
   "execution_count": 5,
   "id": "4d5b96c0",
   "metadata": {},
   "outputs": [],
   "source": [
    "# Loss function\n",
    "def loss_fn(X, y, w):\n",
    "    return ((X @ w - y) ** 2).mean()"
   ]
  },
  {
   "cell_type": "code",
   "execution_count": 6,
   "id": "319aa81e",
   "metadata": {},
   "outputs": [
    {
     "name": "stdout",
     "output_type": "stream",
     "text": [
      "Epoch 1, Loss: 0.9968023896217346\n",
      "Epoch 2, Loss: 0.937600314617157\n",
      "Epoch 3, Loss: 0.9346346855163574\n",
      "Epoch 4, Loss: 0.9345545172691345\n",
      "Epoch 5, Loss: 0.9345430135726929\n"
     ]
    }
   ],
   "source": [
    "# SVRG implementation\n",
    "for epoch in range(epochs):\n",
    "    # Compute full gradient (reference point)\n",
    "    w_snapshot = w.clone().detach().requires_grad_(True)\n",
    "    full_loss = loss_fn(X, y, w_snapshot)\n",
    "    full_loss.backward()\n",
    "    full_grad = w_snapshot.grad.clone().detach()\n",
    "    \n",
    "    # Shuffle data\n",
    "    perm = torch.randperm(X.size(0))\n",
    "    X_shuffled = X[perm]\n",
    "    y_shuffled = y[perm]\n",
    "    \n",
    "    for i in range(0, X.size(0), batch_size):\n",
    "        X_batch = X_shuffled[i:i+batch_size]\n",
    "        y_batch = y_shuffled[i:i+batch_size]\n",
    "        \n",
    "        # Compute gradient at current w\n",
    "        loss = loss_fn(X_batch, y_batch, w)\n",
    "        loss.backward()\n",
    "        grad_w = w.grad.clone().detach()\n",
    "        w.grad.zero_()\n",
    "        \n",
    "        # Compute gradient at snapshot w\n",
    "        w_snapshot_batch = w_snapshot.detach().clone().requires_grad_(True)\n",
    "        loss_snapshot = loss_fn(X_batch, y_batch, w_snapshot_batch)\n",
    "        loss_snapshot.backward()\n",
    "        grad_snapshot = w_snapshot_batch.grad.clone().detach()\n",
    "        \n",
    "        # SVRG update\n",
    "        v = grad_w - grad_snapshot + full_grad\n",
    "        w.data -= lr * v\n",
    "        w.grad.zero_()\n",
    "\n",
    "    print(f\"Epoch {epoch+1}, Loss: {loss_fn(X, y, w).item()}\")"
   ]
  }
 ],
 "metadata": {
  "kernelspec": {
   "display_name": "base",
   "language": "python",
   "name": "python3"
  },
  "language_info": {
   "codemirror_mode": {
    "name": "ipython",
    "version": 3
   },
   "file_extension": ".py",
   "mimetype": "text/x-python",
   "name": "python",
   "nbconvert_exporter": "python",
   "pygments_lexer": "ipython3",
   "version": "3.12.3"
  }
 },
 "nbformat": 4,
 "nbformat_minor": 5
}
