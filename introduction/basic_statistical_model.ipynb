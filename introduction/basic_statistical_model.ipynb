{
 "cells": [
  {
   "cell_type": "code",
   "execution_count": null,
   "id": "ddc22b76",
   "metadata": {},
   "outputs": [],
   "source": [
    "import torchvision\n",
    "import torch\n",
    "from PIL import Image\n",
    "\n",
    "size = (128, 128)\n",
    "transform = torchvision.transforms.Compose([torchvision.transforms.Resize(size), \n",
    "                                             torchvision.transforms.ToTensor()])\n",
    "train_dataset = torchvision.datasets.Flowers102(\"./flowers\", \"train\", transform=transform, download=True)\n",
    "test_dataset = torchvision.datasets.Flowers102(\"./flowers\", \"train\", transform=transform, download=True)"
   ]
  }
 ],
 "metadata": {
  "language_info": {
   "name": "python"
  }
 },
 "nbformat": 4,
 "nbformat_minor": 5
}
