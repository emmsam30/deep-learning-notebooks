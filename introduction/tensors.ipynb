{
 "cells": [
  {
   "cell_type": "code",
   "execution_count": 1,
   "id": "4a075efc",
   "metadata": {},
   "outputs": [],
   "source": [
    "import torch"
   ]
  },
  {
   "cell_type": "code",
   "execution_count": 5,
   "id": "81c36e6d",
   "metadata": {},
   "outputs": [
    {
     "name": "stdout",
     "output_type": "stream",
     "text": [
      "torch.float32\n",
      "torch.Size([3])\n",
      "1\n"
     ]
    }
   ],
   "source": [
    "a = torch.tensor([1.0, 2, 3])\n",
    "print(a.dtype)\n",
    "print(a.shape)\n",
    "print(a.ndim)"
   ]
  },
  {
   "cell_type": "code",
   "execution_count": 6,
   "id": "04e62494",
   "metadata": {},
   "outputs": [
    {
     "name": "stdout",
     "output_type": "stream",
     "text": [
      "tensor([[[0., 0., 0.],\n",
      "         [0., 0., 0.],\n",
      "         [0., 0., 0.]],\n",
      "\n",
      "        [[0., 0., 0.],\n",
      "         [0., 0., 0.],\n",
      "         [0., 0., 0.]],\n",
      "\n",
      "        [[0., 0., 0.],\n",
      "         [0., 0., 0.],\n",
      "         [0., 0., 0.]]])\n",
      "3\n"
     ]
    }
   ],
   "source": [
    "b = torch.zeros([3, 3, 3], dtype=torch.float32)\n",
    "print(b)\n",
    "print(b.ndim)"
   ]
  },
  {
   "cell_type": "code",
   "execution_count": 9,
   "id": "6f14743f",
   "metadata": {},
   "outputs": [
    {
     "name": "stdout",
     "output_type": "stream",
     "text": [
      "tensor([[[1., 1., 1.],\n",
      "         [1., 1., 1.],\n",
      "         [1., 1., 1.]],\n",
      "\n",
      "        [[1., 1., 1.],\n",
      "         [1., 1., 1.],\n",
      "         [1., 1., 1.]],\n",
      "\n",
      "        [[1., 1., 1.],\n",
      "         [1., 1., 1.],\n",
      "         [1., 1., 1.]]])\n",
      "3\n"
     ]
    }
   ],
   "source": [
    "b = torch.ones([3, 3, 3], dtype=torch.float32)\n",
    "print(b)\n",
    "print(b.ndim)"
   ]
  },
  {
   "cell_type": "code",
   "execution_count": 8,
   "id": "4bad816f",
   "metadata": {},
   "outputs": [
    {
     "name": "stdout",
     "output_type": "stream",
     "text": [
      "tensor([[[0.0586, 0.3647, 0.6618],\n",
      "         [0.9095, 0.8112, 0.7776],\n",
      "         [0.9628, 0.8881, 0.1162]],\n",
      "\n",
      "        [[0.8154, 0.8022, 0.7376],\n",
      "         [0.3134, 0.3768, 0.1080],\n",
      "         [0.3278, 0.5900, 0.2483]],\n",
      "\n",
      "        [[0.5804, 0.3347, 0.8118],\n",
      "         [0.2095, 0.3694, 0.3710],\n",
      "         [0.7794, 0.9695, 0.5391]]])\n",
      "3\n"
     ]
    }
   ],
   "source": [
    "b = torch.rand([3, 3, 3], dtype=torch.float32)\n",
    "print(b)\n",
    "print(b.ndim)"
   ]
  },
  {
   "cell_type": "code",
   "execution_count": 15,
   "id": "5763424a",
   "metadata": {},
   "outputs": [
    {
     "name": "stdout",
     "output_type": "stream",
     "text": [
      "tensor([[[ 96,  99,  90],\n",
      "         [ 96,  99,  92],\n",
      "         [ 96,  99,  92],\n",
      "         ...,\n",
      "         [110, 100,  98],\n",
      "         [109,  99,  97],\n",
      "         [109,  99,  97]],\n",
      "\n",
      "        [[ 96,  99,  90],\n",
      "         [ 96,  99,  92],\n",
      "         [ 96,  99,  92],\n",
      "         ...,\n",
      "         [107,  99,  96],\n",
      "         [108,  98,  96],\n",
      "         [109,  99,  97]],\n",
      "\n",
      "        [[ 96,  97,  89],\n",
      "         [ 96,  97,  91],\n",
      "         [ 97,  98,  92],\n",
      "         ...,\n",
      "         [103,  95,  92],\n",
      "         [105,  97,  94],\n",
      "         [106,  98,  95]],\n",
      "\n",
      "        ...,\n",
      "\n",
      "        [[ 67, 132,  89],\n",
      "         [ 68, 133,  90],\n",
      "         [ 69, 134,  91],\n",
      "         ...,\n",
      "         [ 90, 159, 115],\n",
      "         [ 91, 160, 116],\n",
      "         [ 91, 160, 116]],\n",
      "\n",
      "        [[ 70, 139,  94],\n",
      "         [ 71, 140,  95],\n",
      "         [ 71, 140,  95],\n",
      "         ...,\n",
      "         [ 92, 161, 117],\n",
      "         [ 93, 162, 118],\n",
      "         [ 94, 161, 118]],\n",
      "\n",
      "        [[ 70, 146,  99],\n",
      "         [ 71, 147, 100],\n",
      "         [ 70, 146,  99],\n",
      "         ...,\n",
      "         [ 95, 162, 119],\n",
      "         [ 95, 162, 119],\n",
      "         [ 97, 162, 120]]], dtype=torch.uint8)\n",
      "torch.Size([719, 720, 3])\n",
      "3\n"
     ]
    }
   ],
   "source": [
    "from PIL import Image\n",
    "import numpy as np\n",
    "\n",
    "img = Image.open('cat.jpg')\n",
    "c = torch.as_tensor(np.array(img))\n",
    "print(c)\n",
    "print(c.shape)\n",
    "print(c.ndim)"
   ]
  },
  {
   "cell_type": "code",
   "execution_count": 19,
   "id": "bd6907e0",
   "metadata": {},
   "outputs": [
    {
     "name": "stdout",
     "output_type": "stream",
     "text": [
      "a = tensor([0, 1, 2, 3, 4, 5, 6, 7, 8, 9])\n",
      "b = tensor([1., 1., 1., 1., 1., 1., 1., 1., 1., 1.])\n",
      "a + b = tensor([ 1.,  2.,  3.,  4.,  5.,  6.,  7.,  8.,  9., 10.])\n",
      "tensor([0., 1., 2., 3., 4., 5., 6., 7., 8., 9.])\n"
     ]
    }
   ],
   "source": [
    "a = torch.arange(10)\n",
    "b = torch.ones(10)\n",
    "print(f'{a = }')\n",
    "print(f'{b = }')\n",
    "print(f'{a + b = }')\n",
    "print(a * b)"
   ]
  },
  {
   "cell_type": "code",
   "execution_count": 21,
   "id": "f87ef116",
   "metadata": {},
   "outputs": [],
   "source": [
    "a = torch.rand(1_000_000)\n",
    "b = torch.rand(1_000_000)\n",
    "c = a + b"
   ]
  },
  {
   "cell_type": "code",
   "execution_count": 22,
   "id": "cd512169",
   "metadata": {},
   "outputs": [
    {
     "name": "stdout",
     "output_type": "stream",
     "text": [
      "96.5 μs ± 9.97 μs per loop (mean ± std. dev. of 7 runs, 10,000 loops each)\n"
     ]
    }
   ],
   "source": [
    "%timeit c = a + b"
   ]
  },
  {
   "cell_type": "code",
   "execution_count": 23,
   "id": "de8baa36",
   "metadata": {},
   "outputs": [
    {
     "name": "stdout",
     "output_type": "stream",
     "text": [
      "13.2 μs ± 276 ns per loop (mean ± std. dev. of 7 runs, 100,000 loops each)\n"
     ]
    }
   ],
   "source": [
    "a_gpu = a.to('cuda')\n",
    "b_gpu = b.to('cuda')\n",
    "%timeit c_gpu = a_gpu + b_gpu"
   ]
  },
  {
   "cell_type": "code",
   "execution_count": null,
   "id": "3bd9b526",
   "metadata": {},
   "outputs": [
    {
     "name": "stdout",
     "output_type": "stream",
     "text": [
      "tensor([[0, 1, 2],\n",
      "        [3, 4, 5]])\n",
      "1\n"
     ]
    }
   ],
   "source": [
    "a = torch.arange(6)\n",
    "print(a.view(2, 3))\n",
    "print(a.ndim)\n",
    "# left off 12:20"
   ]
  }
 ],
 "metadata": {
  "kernelspec": {
   "display_name": "base",
   "language": "python",
   "name": "python3"
  },
  "language_info": {
   "codemirror_mode": {
    "name": "ipython",
    "version": 3
   },
   "file_extension": ".py",
   "mimetype": "text/x-python",
   "name": "python",
   "nbconvert_exporter": "python",
   "pygments_lexer": "ipython3",
   "version": "3.12.3"
  }
 },
 "nbformat": 4,
 "nbformat_minor": 5
}
