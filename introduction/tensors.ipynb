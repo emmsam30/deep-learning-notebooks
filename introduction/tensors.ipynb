{
 "cells": [
  {
   "cell_type": "code",
   "execution_count": 2,
   "id": "4a075efc",
   "metadata": {},
   "outputs": [],
   "source": [
    "import torch"
   ]
  },
  {
   "cell_type": "code",
   "execution_count": 5,
   "id": "81c36e6d",
   "metadata": {},
   "outputs": [
    {
     "name": "stdout",
     "output_type": "stream",
     "text": [
      "torch.float32\n",
      "torch.Size([3])\n",
      "1\n"
     ]
    }
   ],
   "source": [
    "a = torch.tensor([1.0, 2, 3])\n",
    "print(a.dtype)\n",
    "print(a.shape)\n",
    "print(a.ndim)"
   ]
  },
  {
   "cell_type": "code",
   "execution_count": 6,
   "id": "04e62494",
   "metadata": {},
   "outputs": [
    {
     "name": "stdout",
     "output_type": "stream",
     "text": [
      "tensor([[[0., 0., 0.],\n",
      "         [0., 0., 0.],\n",
      "         [0., 0., 0.]],\n",
      "\n",
      "        [[0., 0., 0.],\n",
      "         [0., 0., 0.],\n",
      "         [0., 0., 0.]],\n",
      "\n",
      "        [[0., 0., 0.],\n",
      "         [0., 0., 0.],\n",
      "         [0., 0., 0.]]])\n",
      "3\n"
     ]
    }
   ],
   "source": [
    "b = torch.zeros([3, 3, 3], dtype=torch.float32)\n",
    "print(b)\n",
    "print(b.ndim)"
   ]
  },
  {
   "cell_type": "code",
   "execution_count": 9,
   "id": "6f14743f",
   "metadata": {},
   "outputs": [
    {
     "name": "stdout",
     "output_type": "stream",
     "text": [
      "tensor([[[1., 1., 1.],\n",
      "         [1., 1., 1.],\n",
      "         [1., 1., 1.]],\n",
      "\n",
      "        [[1., 1., 1.],\n",
      "         [1., 1., 1.],\n",
      "         [1., 1., 1.]],\n",
      "\n",
      "        [[1., 1., 1.],\n",
      "         [1., 1., 1.],\n",
      "         [1., 1., 1.]]])\n",
      "3\n"
     ]
    }
   ],
   "source": [
    "b = torch.ones([3, 3, 3], dtype=torch.float32)\n",
    "print(b)\n",
    "print(b.ndim)"
   ]
  },
  {
   "cell_type": "code",
   "execution_count": 8,
   "id": "4bad816f",
   "metadata": {},
   "outputs": [
    {
     "name": "stdout",
     "output_type": "stream",
     "text": [
      "tensor([[[0.0586, 0.3647, 0.6618],\n",
      "         [0.9095, 0.8112, 0.7776],\n",
      "         [0.9628, 0.8881, 0.1162]],\n",
      "\n",
      "        [[0.8154, 0.8022, 0.7376],\n",
      "         [0.3134, 0.3768, 0.1080],\n",
      "         [0.3278, 0.5900, 0.2483]],\n",
      "\n",
      "        [[0.5804, 0.3347, 0.8118],\n",
      "         [0.2095, 0.3694, 0.3710],\n",
      "         [0.7794, 0.9695, 0.5391]]])\n",
      "3\n"
     ]
    }
   ],
   "source": [
    "b = torch.rand([3, 3, 3], dtype=torch.float32)\n",
    "print(b)\n",
    "print(b.ndim)"
   ]
  },
  {
   "cell_type": "code",
   "execution_count": 15,
   "id": "5763424a",
   "metadata": {},
   "outputs": [
    {
     "name": "stdout",
     "output_type": "stream",
     "text": [
      "tensor([[[ 96,  99,  90],\n",
      "         [ 96,  99,  92],\n",
      "         [ 96,  99,  92],\n",
      "         ...,\n",
      "         [110, 100,  98],\n",
      "         [109,  99,  97],\n",
      "         [109,  99,  97]],\n",
      "\n",
      "        [[ 96,  99,  90],\n",
      "         [ 96,  99,  92],\n",
      "         [ 96,  99,  92],\n",
      "         ...,\n",
      "         [107,  99,  96],\n",
      "         [108,  98,  96],\n",
      "         [109,  99,  97]],\n",
      "\n",
      "        [[ 96,  97,  89],\n",
      "         [ 96,  97,  91],\n",
      "         [ 97,  98,  92],\n",
      "         ...,\n",
      "         [103,  95,  92],\n",
      "         [105,  97,  94],\n",
      "         [106,  98,  95]],\n",
      "\n",
      "        ...,\n",
      "\n",
      "        [[ 67, 132,  89],\n",
      "         [ 68, 133,  90],\n",
      "         [ 69, 134,  91],\n",
      "         ...,\n",
      "         [ 90, 159, 115],\n",
      "         [ 91, 160, 116],\n",
      "         [ 91, 160, 116]],\n",
      "\n",
      "        [[ 70, 139,  94],\n",
      "         [ 71, 140,  95],\n",
      "         [ 71, 140,  95],\n",
      "         ...,\n",
      "         [ 92, 161, 117],\n",
      "         [ 93, 162, 118],\n",
      "         [ 94, 161, 118]],\n",
      "\n",
      "        [[ 70, 146,  99],\n",
      "         [ 71, 147, 100],\n",
      "         [ 70, 146,  99],\n",
      "         ...,\n",
      "         [ 95, 162, 119],\n",
      "         [ 95, 162, 119],\n",
      "         [ 97, 162, 120]]], dtype=torch.uint8)\n",
      "torch.Size([719, 720, 3])\n",
      "3\n"
     ]
    }
   ],
   "source": [
    "from PIL import Image\n",
    "import numpy as np\n",
    "\n",
    "img = Image.open('cat.jpg')\n",
    "c = torch.as_tensor(np.array(img))\n",
    "print(c)\n",
    "print(c.shape)\n",
    "print(c.ndim)"
   ]
  },
  {
   "cell_type": "code",
   "execution_count": 19,
   "id": "bd6907e0",
   "metadata": {},
   "outputs": [
    {
     "name": "stdout",
     "output_type": "stream",
     "text": [
      "a = tensor([0, 1, 2, 3, 4, 5, 6, 7, 8, 9])\n",
      "b = tensor([1., 1., 1., 1., 1., 1., 1., 1., 1., 1.])\n",
      "a + b = tensor([ 1.,  2.,  3.,  4.,  5.,  6.,  7.,  8.,  9., 10.])\n",
      "tensor([0., 1., 2., 3., 4., 5., 6., 7., 8., 9.])\n"
     ]
    }
   ],
   "source": [
    "a = torch.arange(10)\n",
    "b = torch.ones(10)\n",
    "print(f'{a = }')\n",
    "print(f'{b = }')\n",
    "print(f'{a + b = }')\n",
    "print(a * b)"
   ]
  },
  {
   "cell_type": "code",
   "execution_count": 21,
   "id": "f87ef116",
   "metadata": {},
   "outputs": [],
   "source": [
    "a = torch.rand(1_000_000)\n",
    "b = torch.rand(1_000_000)\n",
    "c = a + b"
   ]
  },
  {
   "cell_type": "code",
   "execution_count": 22,
   "id": "cd512169",
   "metadata": {},
   "outputs": [
    {
     "name": "stdout",
     "output_type": "stream",
     "text": [
      "96.5 μs ± 9.97 μs per loop (mean ± std. dev. of 7 runs, 10,000 loops each)\n"
     ]
    }
   ],
   "source": [
    "%timeit c = a + b"
   ]
  },
  {
   "cell_type": "code",
   "execution_count": 23,
   "id": "de8baa36",
   "metadata": {},
   "outputs": [
    {
     "name": "stdout",
     "output_type": "stream",
     "text": [
      "13.2 μs ± 276 ns per loop (mean ± std. dev. of 7 runs, 100,000 loops each)\n"
     ]
    }
   ],
   "source": [
    "a_gpu = a.to('cuda')\n",
    "b_gpu = b.to('cuda')\n",
    "%timeit c_gpu = a_gpu + b_gpu"
   ]
  },
  {
   "cell_type": "code",
   "execution_count": null,
   "id": "3bd9b526",
   "metadata": {},
   "outputs": [
    {
     "name": "stdout",
     "output_type": "stream",
     "text": [
      "tensor([[0, 1, 2],\n",
      "        [3, 4, 5]])\n",
      "1\n"
     ]
    }
   ],
   "source": [
    "a = torch.arange(6)\n",
    "print(a.view(2, 3))\n",
    "print(a.ndim)"
   ]
  },
  {
   "cell_type": "code",
   "execution_count": 14,
   "id": "5dc6375d",
   "metadata": {},
   "outputs": [
    {
     "name": "stdout",
     "output_type": "stream",
     "text": [
      "tensor([[[0.4532, 0.7569, 0.3373, 0.7323],\n",
      "         [0.9414, 0.2116, 0.3641, 0.4078],\n",
      "         [0.8139, 0.1865, 0.3362, 0.2307]],\n",
      "\n",
      "        [[0.2094, 0.5534, 0.2909, 0.1421],\n",
      "         [0.1906, 0.5286, 0.7439, 0.7436],\n",
      "         [0.9621, 0.2885, 0.0410, 0.5784]]])\n",
      "tensor([[[0.4532, 0.9414, 0.8139],\n",
      "         [0.7569, 0.2116, 0.1865],\n",
      "         [0.3373, 0.3641, 0.3362],\n",
      "         [0.7323, 0.4078, 0.2307]],\n",
      "\n",
      "        [[0.2094, 0.1906, 0.9621],\n",
      "         [0.5534, 0.5286, 0.2885],\n",
      "         [0.2909, 0.7439, 0.0410],\n",
      "         [0.1421, 0.7436, 0.5784]]])\n"
     ]
    }
   ],
   "source": [
    "a = torch.rand(2, 3, 4)\n",
    "print(a)\n",
    "\n",
    "# matrix transpose\n",
    "print(a.mT)"
   ]
  },
  {
   "cell_type": "code",
   "execution_count": 15,
   "id": "7e7300cd",
   "metadata": {},
   "outputs": [
    {
     "name": "stdout",
     "output_type": "stream",
     "text": [
      "torch.Size([3, 4, 2])\n"
     ]
    }
   ],
   "source": [
    "a = torch.rand(2, 3, 4)\n",
    "b = a.permute(1, 2, 0)\n",
    "print(b.shape)"
   ]
  },
  {
   "cell_type": "code",
   "execution_count": null,
   "id": "828a9868",
   "metadata": {},
   "outputs": [
    {
     "name": "stdout",
     "output_type": "stream",
     "text": [
      "tensor([0, 1, 2, 3, 4, 5])\n",
      "torch.Size([6, 1, 1, 1])\n",
      "tensor([0, 1, 2, 3, 4, 5])\n"
     ]
    }
   ],
   "source": [
    "a = torch.arange(6)\n",
    "print(a)\n",
    "print(a[..., None, None, None].shape)"
   ]
  },
  {
   "cell_type": "code",
   "execution_count": null,
   "id": "cf8b682b",
   "metadata": {},
   "outputs": [
    {
     "name": "stdout",
     "output_type": "stream",
     "text": [
      "torch.Size([3, 2, 1])\n",
      "torch.Size([3, 2])\n"
     ]
    }
   ],
   "source": [
    "a = torch.arange(6).view(3, 2, 1, 1)\n",
    "print(a.squeeze(-1).shape)\n",
    "\n",
    "# You should never have to call .squeeze() with no args\n",
    "print(a.squeeze().shape)"
   ]
  },
  {
   "cell_type": "code",
   "execution_count": null,
   "id": "e2f345a7",
   "metadata": {},
   "outputs": [
    {
     "name": "stdout",
     "output_type": "stream",
     "text": [
      "tensor([[1.1765, 0.4587, 0.7654, 0.7444, 0.7554],\n",
      "        [0.9047, 0.1868, 0.4935, 0.4726, 0.4835],\n",
      "        [0.8541, 0.1363, 0.4430, 0.4221, 0.4330],\n",
      "        [1.3893, 0.6714, 0.9781, 0.9572, 0.9681]])\n"
     ]
    }
   ],
   "source": [
    "# Broadcasting\n",
    "a = torch.rand(4, 1)\n",
    "b = torch.rand(1, 5)\n",
    "print(a + b)"
   ]
  },
  {
   "cell_type": "code",
   "execution_count": null,
   "id": "5c74470a",
   "metadata": {},
   "outputs": [
    {
     "name": "stdout",
     "output_type": "stream",
     "text": [
      "tensor([[ 0.0000,  1.3203,  0.9255,  ...,  3.4268,  3.7630,  2.9969],\n",
      "        [ 1.3203,  0.0000,  0.5641,  ...,  6.0594,  0.8373,  7.1734],\n",
      "        [ 0.9255,  0.5641,  0.0000,  ...,  2.9888,  2.7225,  4.2364],\n",
      "        ...,\n",
      "        [ 3.4268,  6.0594,  2.9888,  ...,  0.0000, 11.3814,  0.7603],\n",
      "        [ 3.7630,  0.8373,  2.7225,  ..., 11.3814,  0.0000, 12.7770],\n",
      "        [ 2.9969,  7.1734,  4.2364,  ...,  0.7603, 12.7770,  0.0000]])\n"
     ]
    }
   ],
   "source": [
    "# Squared Euclidean distance\n",
    "x = torch.randn(100, 2)\n",
    "d = torch.zeros(100, 100)\n",
    "for i in range(100):\n",
    "    for j in range(100):\n",
    "        d[i, j] = (x[i] - x[j]).pow(2).sum()\n",
    "\n",
    "\n",
    "d = (x[:, None, :] - x[None, :, :]).pow(2).sum(-1)\n",
    "print(d)"
   ]
  },
  {
   "cell_type": "code",
   "execution_count": null,
   "id": "3309be77",
   "metadata": {},
   "outputs": [
    {
     "name": "stdout",
     "output_type": "stream",
     "text": [
      "tensor(13.8901) (4, 7)\n",
      "tensor(13.8901) (tensor(4), tensor(7))\n"
     ]
    }
   ],
   "source": [
    "# Find max distance\n",
    "x = torch.randn(10, 2)\n",
    "d = torch.zeros(10, 10)\n",
    "max_dist, max_idx, = 0, (-1, -1)\n",
    "for i in range(10):\n",
    "    for j in range(10):\n",
    "        if(x[i] - x[j]).pow(2).sum() > max_dist:\n",
    "            max_dist, max_idx = (x[i] - x[j]).pow(2).sum(), (i, j)\n",
    "\n",
    "print(max_dist, max_idx)\n",
    "\n",
    "\n",
    "d = (x[:, None, :] - x[None, :, :]).pow(2).sum(-1)\n",
    "print(d.max(), (d.argmax() // 10, d.argmax() % 10))"
   ]
  },
  {
   "cell_type": "code",
   "execution_count": 43,
   "id": "7a470288",
   "metadata": {},
   "outputs": [
    {
     "name": "stdout",
     "output_type": "stream",
     "text": [
      "torch.Size([2, 3])\n",
      "tensor(2.3103)\n",
      "tensor(2.3103)\n"
     ]
    }
   ],
   "source": [
    "a = torch.rand(2, 4)\n",
    "b = torch.rand(4, 3)\n",
    "c = a @ b\n",
    "print(c.shape)\n",
    "print(torch.linalg.norm(b))\n",
    "print(b.pow(2).sum().sqrt())"
   ]
  }
 ],
 "metadata": {
  "kernelspec": {
   "display_name": "base",
   "language": "python",
   "name": "python3"
  },
  "language_info": {
   "codemirror_mode": {
    "name": "ipython",
    "version": 3
   },
   "file_extension": ".py",
   "mimetype": "text/x-python",
   "name": "python",
   "nbconvert_exporter": "python",
   "pygments_lexer": "ipython3",
   "version": "3.12.3"
  }
 },
 "nbformat": 4,
 "nbformat_minor": 5
}
