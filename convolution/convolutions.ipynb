{
 "cells": [
  {
   "cell_type": "markdown",
   "id": "b731222e",
   "metadata": {},
   "source": [
    "## Introduction to Convolutions\n",
    "\n",
    "Convolutions are a fundamental mathematical operation widely used in signal processing, image analysis, and deep learning. In the context of neural networks, especially Convolutional Neural Networks (CNNs), convolutions are used to extract spatial features from data such as images.\n",
    "\n",
    "### What is a Convolution?\n",
    "\n",
    "A convolution is an operation that combines two functions to produce a third function. In image processing, it typically involves sliding a small matrix called a **kernel** or **filter** over an input image and computing a weighted sum at each position. This process helps in detecting patterns such as edges, textures, or more complex features.\n",
    "\n",
    "### Why Use Convolutions?\n",
    "\n",
    "- **Parameter Sharing:** The same kernel is used across the entire input, reducing the number of parameters.\n",
    "- **Local Connectivity:** Each output value depends only on a small region of the input, capturing local patterns.\n",
    "- **Translation Invariance:** Features detected by the kernel can be recognized anywhere in the input.\n",
    "\n",
    "### Convolutions in Deep Learning\n",
    "\n",
    "In deep learning, convolutional layers automatically learn the best kernels for a given task during training. These layers are the building blocks of CNNs, which are highly effective for tasks like image classification, object detection, and more.\n",
    "\n",
    "---\n",
    "\n",
    "**In summary:**  \n",
    "Convolutions help neural networks efficiently learn and detect patterns in data, making them essential for modern computer vision"
   ]
  },
  {
   "cell_type": "code",
   "execution_count": 2,
   "id": "7dffdc9e",
   "metadata": {},
   "outputs": [],
   "source": [
    "import torch\n",
    "import torch.nn.functional as F\n",
    "import matplotlib.pyplot as plt"
   ]
  },
  {
   "cell_type": "code",
   "execution_count": 3,
   "id": "e33576cf",
   "metadata": {},
   "outputs": [],
   "source": [
    "# Create a simple 5x5 image (single channel)\n",
    "image = torch.tensor([\n",
    "    [0, 0, 1, 0, 0],\n",
    "    [0, 1, 1, 1, 0],\n",
    "    [1, 1, 1, 1, 1],\n",
    "    [0, 1, 1, 1, 0],\n",
    "    [0, 0, 1, 0, 0]\n",
    "], dtype=torch.float32).unsqueeze(0).unsqueeze(0)  # shape: (1, 1, 5, 5)\n"
   ]
  },
  {
   "cell_type": "code",
   "execution_count": 4,
   "id": "6b52a61a",
   "metadata": {},
   "outputs": [],
   "source": [
    "# Define a simple edge-detection kernel\n",
    "kernel = torch.tensor([\n",
    "    [-1, -1, -1],\n",
    "    [-1,  8, -1],\n",
    "    [-1, -1, -1]\n",
    "], dtype=torch.float32).unsqueeze(0).unsqueeze(0)  # shape: (1, 1, 3, 3)\n"
   ]
  },
  {
   "cell_type": "code",
   "execution_count": 5,
   "id": "98135763",
   "metadata": {},
   "outputs": [],
   "source": [
    "# Apply convolution\n",
    "output = F.conv2d(image, kernel, padding=1)"
   ]
  },
  {
   "cell_type": "code",
   "execution_count": 6,
   "id": "2a215abd",
   "metadata": {},
   "outputs": [
    {
     "data": {
      "image/png": "[encoded data removed]",
      "text/plain": [
       "<Figure size 640x480 with 2 Axes>"
      ]
     },
     "metadata": {},
     "output_type": "display_data"
    }
   ],
   "source": [
    "plt.subplot(1, 2, 1)\n",
    "plt.title(\"Original Image\")\n",
    "plt.imshow(image.squeeze(), cmap='gray')\n",
    "plt.axis('off')\n",
    "\n",
    "plt.subplot(1, 2, 2)\n",
    "plt.title(\"After Convolution\")\n",
    "plt.imshow(output.squeeze().detach(), cmap='gray')\n",
    "plt.axis('off')\n",
    "\n",
    "plt.show()"
   ]
  }
 ],
 "metadata": {
  "kernelspec": {
   "display_name": "base",
   "language": "python",
   "name": "python3"
  },
  "language_info": {
   "codemirror_mode": {
    "name": "ipython",
    "version": 3
   },
   "file_extension": ".py",
   "mimetype": "text/x-python",
   "name": "python",
   "nbconvert_exporter": "python",
   "pygments_lexer": "ipython3",
   "version": "3.12.3"
  }
 },
 "nbformat": 4,
 "nbformat_minor": 5
}
