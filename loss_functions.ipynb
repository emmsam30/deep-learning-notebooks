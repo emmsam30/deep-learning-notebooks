{
 "cells": [
  {
   "cell_type": "code",
   "execution_count": 4,
   "metadata": {},
   "outputs": [],
   "source": [
    "import torch"
   ]
  },
  {
   "cell_type": "markdown",
   "metadata": {},
   "source": [
    "## Recap with Datasets \n",
    "$D = \\{(x_i, y_i)\\}_{i=1}^{N} \\quad \\text{where} \\quad (x_i, y_i) \\sim P(X, Y)$\n",
    "\n",
    "#### Loss function:\n",
    "$l(\\theta | x_i, y_i)$\n",
    "\n",
    "#### Expected loss:\n",
    "$L(\\theta | D) = \\mathbb{E}_{(x,y) \\sim D} [l(\\theta | x, y)]$\n",
    "\n",
    "\n",
    "We optimize the expected loss"
   ]
  },
  {
   "cell_type": "markdown",
   "metadata": {},
   "source": [
    "Here we have a simple linear model with 10 inputs and 1 output"
   ]
  },
  {
   "cell_type": "code",
   "execution_count": 5,
   "metadata": {},
   "outputs": [],
   "source": [
    "model = torch.nn.Linear(10, 1)"
   ]
  },
  {
   "cell_type": "markdown",
   "metadata": {},
   "source": [
    "Generate 20 samples, each with 10 features. And also 20 labels."
   ]
  },
  {
   "cell_type": "code",
   "execution_count": 6,
   "metadata": {},
   "outputs": [
    {
     "name": "stdout",
     "output_type": "stream",
     "text": [
      "x=tensor([[-0.3175, -0.7245, -0.2070,  1.8208, -0.9318,  0.4543, -0.4271,  0.2090,\n",
      "          0.3441,  0.8110],\n",
      "        [ 0.5983, -0.4315, -2.1851,  0.2668, -1.6111, -0.1150,  1.9538, -0.7918,\n",
      "          0.2555,  1.2377],\n",
      "        [ 0.4944, -1.7090, -0.9356,  0.4767, -1.2258, -0.0803, -1.3838, -0.5700,\n",
      "          1.8414,  0.1204],\n",
      "        [-0.8375, -1.9660,  0.4554, -0.6287,  0.7526, -0.3591, -0.8164,  0.1252,\n",
      "         -0.8139,  1.2042],\n",
      "        [-1.7277,  0.9275, -0.0153,  1.5085,  0.1407, -0.4717,  1.0998,  1.1801,\n",
      "         -0.3005, -0.8578],\n",
      "        [-1.2252, -0.1626,  0.5411, -1.3415, -0.5506,  0.8671,  0.5526,  2.0041,\n",
      "          0.2546, -0.8556],\n",
      "        [-1.4562, -0.5661, -1.2444, -1.0338, -0.5880,  1.1158,  1.5578,  0.5149,\n",
      "         -0.9962, -3.1259],\n",
      "        [ 1.2433,  0.5967,  1.9750,  0.8292, -2.3182, -0.2025, -1.1691, -1.0175,\n",
      "          0.3023, -1.5941],\n",
      "        [-1.0832,  0.8668,  1.6278, -2.4697, -0.0367, -1.1153,  0.3240, -1.4514,\n",
      "         -1.1533,  1.0173],\n",
      "        [-1.9698,  0.4054,  1.0562, -1.3934, -0.8442, -0.5658,  0.4551, -1.6317,\n",
      "         -0.1057,  0.8765],\n",
      "        [-0.2286, -0.8163, -0.4388,  0.3624,  0.5679, -1.3022,  0.4153,  0.4650,\n",
      "         -2.1995, -0.0987],\n",
      "        [-0.5555, -1.9336,  0.5389,  0.2675,  0.4708, -0.6208, -0.6380, -0.1376,\n",
      "          0.5269,  2.7998],\n",
      "        [-0.2235,  0.2527,  2.1241, -0.9610,  0.2185,  0.3799, -0.4652, -0.9397,\n",
      "          0.1750, -0.9578],\n",
      "        [-1.9528,  0.0350,  0.6094, -0.6304, -0.7218, -0.6062, -1.3680,  0.1392,\n",
      "         -0.7068, -0.2716],\n",
      "        [-0.1503,  1.9128, -0.2746, -0.3323,  0.4809,  1.2492, -0.1866, -1.3279,\n",
      "         -1.7813,  0.3609],\n",
      "        [ 1.8382,  0.0990,  0.4941,  0.8769, -0.6190,  0.9746, -1.4600, -1.3858,\n",
      "         -0.5592,  0.8223],\n",
      "        [-0.1825,  1.1264,  0.1196, -1.3772,  1.7873,  0.4761,  0.4659, -0.8229,\n",
      "          0.8964, -1.0536],\n",
      "        [-0.0079, -1.7298,  1.5095, -0.5212, -1.6071,  0.1067,  0.7494,  0.8228,\n",
      "         -0.9603,  1.1810],\n",
      "        [-0.8692,  0.7141,  0.0404, -0.5504,  0.1521,  0.3666,  0.6864,  0.7205,\n",
      "          0.4026, -0.2623],\n",
      "        [ 0.8181,  0.0877, -0.6900,  2.0103, -0.6795,  0.5231,  0.6813, -0.5043,\n",
      "         -1.7487,  0.9755]]) y=tensor([[ 0.4597],\n",
      "        [ 0.6592],\n",
      "        [-0.3603],\n",
      "        [ 1.6020],\n",
      "        [ 1.5152],\n",
      "        [ 0.7999],\n",
      "        [ 0.6307],\n",
      "        [-0.2552],\n",
      "        [-0.9470],\n",
      "        [-0.8390],\n",
      "        [-0.1212],\n",
      "        [-0.4182],\n",
      "        [-0.5698],\n",
      "        [ 0.0458],\n",
      "        [-0.8327],\n",
      "        [-0.6733],\n",
      "        [-0.4637],\n",
      "        [-1.4065],\n",
      "        [ 0.0867],\n",
      "        [ 0.7152]])\n"
     ]
    }
   ],
   "source": [
    "x = torch.randn(20, 10)\n",
    "y = torch.randn(20, 1)\n",
    "print(f'{x=} {y=}')"
   ]
  },
  {
   "cell_type": "markdown",
   "metadata": {},
   "source": [
    "Pass through model with x, we get predictions for y."
   ]
  },
  {
   "cell_type": "code",
   "execution_count": 7,
   "metadata": {},
   "outputs": [
    {
     "name": "stdout",
     "output_type": "stream",
     "text": [
      "tensor([[-0.6117],\n",
      "        [ 0.8143],\n",
      "        [-0.9638],\n",
      "        [ 0.2823],\n",
      "        [ 0.1358],\n",
      "        [-0.1880],\n",
      "        [ 0.1749],\n",
      "        [-0.7061],\n",
      "        [ 2.3809],\n",
      "        [ 1.9431],\n",
      "        [ 0.6168],\n",
      "        [ 0.1124],\n",
      "        [ 0.0042],\n",
      "        [ 0.8532],\n",
      "        [ 1.2789],\n",
      "        [-0.4243],\n",
      "        [ 0.2630],\n",
      "        [ 0.1484],\n",
      "        [ 0.2575],\n",
      "        [ 0.2015]], grad_fn=<AddmmBackward0>)\n"
     ]
    }
   ],
   "source": [
    "pred_y = model(x)\n",
    "print(pred_y)"
   ]
  },
  {
   "cell_type": "markdown",
   "metadata": {},
   "source": [
    "**Mean Squared Error (MSE) Formula**\n",
    "\n",
    "The Mean Squared Error (MSE) measures the average squared difference between actual and predicted values:\n",
    "\n",
    "\n",
    "$MSE = \\frac{1}{n} \\sum_{i=1}^{n} (y_i - \\hat{y}_i)^2$\n",
    "\n",
    "A lower MSE indicates a better fit of the model.\n"
   ]
  },
  {
   "cell_type": "code",
   "execution_count": 8,
   "metadata": {},
   "outputs": [
    {
     "name": "stdout",
     "output_type": "stream",
     "text": [
      "tensor(1.7475, grad_fn=<MseLossBackward0>)\n"
     ]
    }
   ],
   "source": [
    "loss = torch.nn.functional.mse_loss(pred_y, y)\n",
    "print(loss)"
   ]
  },
  {
   "cell_type": "markdown",
   "metadata": {},
   "source": [
    "MSE from scratch"
   ]
  },
  {
   "cell_type": "code",
   "execution_count": null,
   "metadata": {},
   "outputs": [
    {
     "data": {
      "text/plain": [
       "tensor(1.1833, grad_fn=<MeanBackward0>)"
      ]
     },
     "execution_count": 11,
     "metadata": {},
     "output_type": "execute_result"
    }
   ],
   "source": [
    "def mse_loss(pred_y, y):\n",
    "    return torch.mean((pred_y - y) ** 2)\n",
    "mse_loss(pred_y, y)"
   ]
  },
  {
   "cell_type": "markdown",
   "metadata": {},
   "source": [
    "Let's create 20 binary labels "
   ]
  },
  {
   "cell_type": "code",
   "execution_count": null,
   "metadata": {},
   "outputs": [
    {
     "name": "stdout",
     "output_type": "stream",
     "text": [
      "tensor([[0.],\n",
      "        [1.],\n",
      "        [1.],\n",
      "        [1.],\n",
      "        [0.],\n",
      "        [1.],\n",
      "        [1.],\n",
      "        [0.],\n",
      "        [0.],\n",
      "        [1.],\n",
      "        [1.],\n",
      "        [0.],\n",
      "        [0.],\n",
      "        [1.],\n",
      "        [1.],\n",
      "        [0.],\n",
      "        [0.],\n",
      "        [0.],\n",
      "        [0.],\n",
      "        [0.]])\n"
     ]
    }
   ],
   "source": [
    "y = (torch.randn(20, 1) > 0).float()\n",
    "print(y)"
   ]
  },
  {
   "cell_type": "markdown",
   "metadata": {},
   "source": [
    "### Binary Cross Entropy with Logits (BCE with Logits)\n",
    "\n",
    "Binary Cross Entropy with Logits is used for binary classification tasks. Instead of working with probabilities, it takes raw model outputs (logits) and applies the **sigmoid function** internally for stability.\n",
    "\n",
    "#### **Formula:**\n",
    "$\n",
    "L = -\\frac{1}{n} \\sum_{i=1}^{n} \\left[ y_i \\log(\\sigma(\\hat{y}_i)) + (1 - y_i) \\log(1 - \\sigma(\\hat{y}_i)) \\right]\n",
    "$\n",
    "\n",
    "\n",
    "Using logits instead of probabilities improves numerical stability and gradient computations.\n"
   ]
  },
  {
   "cell_type": "code",
   "execution_count": 9,
   "metadata": {},
   "outputs": [
    {
     "name": "stdout",
     "output_type": "stream",
     "text": [
      "tensor(1.1178, grad_fn=<BinaryCrossEntropyWithLogitsBackward0>)\n"
     ]
    }
   ],
   "source": [
    "loss = torch.nn.functional.binary_cross_entropy_with_logits(pred_y, y)\n",
    "print(loss)"
   ]
  },
  {
   "cell_type": "markdown",
   "metadata": {},
   "source": [
    "Let's create a new model that takes in 10 inputs and outputs 3 different classes\n",
    "\n",
    "Let's also create some labels of classes 0 - 2"
   ]
  },
  {
   "cell_type": "code",
   "execution_count": 10,
   "metadata": {},
   "outputs": [
    {
     "name": "stdout",
     "output_type": "stream",
     "text": [
      "tensor([0, 1, 2, 2, 1, 1, 1, 0, 0, 1, 1, 0, 1, 0, 2, 1, 2, 1, 1, 2])\n"
     ]
    }
   ],
   "source": [
    "num_classes = 3\n",
    "model = torch.nn.Linear(10, num_classes)\n",
    "y = (torch.randn(20) > 0).long() + (torch.randn(20) > 0).long()\n",
    "print(y)"
   ]
  },
  {
   "cell_type": "markdown",
   "metadata": {},
   "source": [
    "### Cross Entropy Loss\n",
    "\n",
    "Cross Entropy is used for classification tasks to compare the predicted probability distribution with the true class labels.\n",
    "\n",
    "**Formula for a Single Sample:**\n",
    "\n",
    "$L = -\\sum_{i=1}^{C} y_i \\log(\\hat{y}_i)$\n",
    "\n",
    "**Formula for Multiple Samples:**\n",
    "\n",
    "$L = -\\frac{1}{n} \\sum_{j=1}^{n} \\sum_{i=1}^{C} y_{j,i} \\log(\\hat{y}_{j,i})$\n",
    "\n",
    "\n",
    "Cross entropy penalizes incorrect predictions more severely when the confidence in a wrong class is high.\n"
   ]
  },
  {
   "cell_type": "code",
   "execution_count": null,
   "metadata": {},
   "outputs": [
    {
     "name": "stdout",
     "output_type": "stream",
     "text": [
      "tensor(1.0760, grad_fn=<NllLossBackward0>)\n"
     ]
    }
   ],
   "source": [
    "pred_y = model(x)\n",
    "loss = torch.nn.functional.cross_entropy(pred_y, y)\n",
    "print(loss)"
   ]
  }
 ],
 "metadata": {
  "kernelspec": {
   "display_name": "base",
   "language": "python",
   "name": "python3"
  },
  "language_info": {
   "codemirror_mode": {
    "name": "ipython",
    "version": 3
   },
   "file_extension": ".py",
   "mimetype": "text/x-python",
   "name": "python",
   "nbconvert_exporter": "python",
   "pygments_lexer": "ipython3",
   "version": "3.12.3"
  }
 },
 "nbformat": 4,
 "nbformat_minor": 2
}
