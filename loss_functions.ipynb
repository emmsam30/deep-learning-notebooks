{
 "cells": [
  {
   "cell_type": "code",
   "execution_count": 1,
   "metadata": {},
   "outputs": [],
   "source": [
    "import torch"
   ]
  },
  {
   "cell_type": "markdown",
   "metadata": {},
   "source": [
    "## Recap with Datasets \n",
    "$D = \\{(x_i, y_i)\\}_{i=1}^{N} \\quad \\text{where} \\quad (x_i, y_i) \\sim P(X, Y)$\n",
    "\n",
    "#### Loss function:\n",
    "$l(\\theta | x_i, y_i)$\n",
    "\n",
    "#### Expected loss:\n",
    "$L(\\theta | D) = \\mathbb{E}_{(x,y) \\sim D} [l(\\theta | x, y)]$\n",
    "\n",
    "\n",
    "We optimize the expected loss"
   ]
  },
  {
   "cell_type": "markdown",
   "metadata": {},
   "source": [
    "Here we have a simple linear model with 10 inputs and 1 output"
   ]
  },
  {
   "cell_type": "code",
   "execution_count": 4,
   "metadata": {},
   "outputs": [],
   "source": [
    "model = torch.nn.Linear(10, 1)"
   ]
  },
  {
   "cell_type": "markdown",
   "metadata": {},
   "source": [
    "Generate 20 samples, each with 10 features. And also 20 labels."
   ]
  },
  {
   "cell_type": "code",
   "execution_count": 5,
   "metadata": {},
   "outputs": [
    {
     "name": "stdout",
     "output_type": "stream",
     "text": [
      "x=tensor([[-0.9083,  0.6928,  1.9945,  0.1235, -0.9830, -0.1790, -0.6362, -0.6634,\n",
      "         -0.1359, -0.6323],\n",
      "        [ 0.9359, -1.2579,  0.8495, -0.1982, -2.0149,  0.4632,  1.3451, -0.0267,\n",
      "          1.2630,  0.7624],\n",
      "        [ 2.6083, -0.6014,  0.2768, -0.3980, -1.3419,  1.0293, -1.5615, -0.4441,\n",
      "         -0.6056,  0.9286],\n",
      "        [-0.3448,  1.4212, -0.2720, -2.1540, -0.0844, -0.0027, -0.9357,  1.3070,\n",
      "         -0.9902,  0.0247],\n",
      "        [ 0.7207,  0.3491, -1.6588, -0.0283,  0.1197,  0.0608,  1.3079,  0.1081,\n",
      "         -0.2526,  0.6874],\n",
      "        [-0.3460, -2.6866, -0.4130, -0.3973, -1.3535, -1.7491, -0.1439, -1.7610,\n",
      "          0.7561, -0.1493],\n",
      "        [-0.8451,  1.3845, -0.3687, -0.3800, -0.1305, -0.4377,  0.4213, -0.2474,\n",
      "         -0.9070,  0.8161],\n",
      "        [-0.0595, -0.1350,  0.5597, -0.7980,  0.2108,  0.8200,  2.0374,  0.6362,\n",
      "          0.9273,  0.4229],\n",
      "        [ 0.2330,  0.5349,  0.7114,  0.3931,  0.4020,  0.6067, -0.2303, -0.2359,\n",
      "          0.2746,  0.5293],\n",
      "        [-1.6134, -1.0792,  1.0581, -0.5312, -0.8541,  0.6338, -0.5487, -0.1271,\n",
      "          1.3776,  0.0858],\n",
      "        [-0.3465, -0.0550, -0.3137, -1.5174, -0.2841,  1.1424, -1.7994,  0.5679,\n",
      "         -0.2231, -0.2061],\n",
      "        [-0.4482,  1.3384, -1.5712, -0.2873,  0.8954,  0.4822, -0.0261,  1.5584,\n",
      "          1.0991,  0.5486],\n",
      "        [ 0.7433,  1.4104, -0.8618, -2.6351, -0.3773,  0.0098,  0.8527,  0.3586,\n",
      "          0.7787,  0.3057],\n",
      "        [-0.7215,  1.0790,  0.2511, -1.3479, -1.3450,  0.2220, -0.7556, -1.7675,\n",
      "         -1.2619, -0.5538],\n",
      "        [ 0.7660,  1.3817,  0.4866, -0.9349, -0.5873,  1.0271,  0.6469, -0.8384,\n",
      "          0.2763, -0.9655],\n",
      "        [ 0.5135,  0.9875,  0.2762,  0.2453,  0.4060,  1.9284, -0.3031, -0.4510,\n",
      "         -0.2850, -0.1710],\n",
      "        [-2.0601,  0.9183, -1.8386,  1.1683, -0.3445,  0.7436, -0.7096,  1.1685,\n",
      "          0.0981,  0.3748],\n",
      "        [ 0.8424,  0.1756, -0.5591, -1.6624, -2.1462,  0.8579,  0.3310, -0.6137,\n",
      "          1.7839,  0.7455],\n",
      "        [ 0.3278,  0.0988, -0.9104,  0.2116,  0.6879, -0.7333, -0.1668,  0.2533,\n",
      "         -0.5012, -0.0653],\n",
      "        [ 0.5961,  1.9745, -1.8777, -1.5405, -0.6312, -1.9143,  0.3377, -1.0765,\n",
      "          0.1473, -1.1242]]) y=tensor([[ 0.3799],\n",
      "        [-1.3064],\n",
      "        [-0.4755],\n",
      "        [ 0.3140],\n",
      "        [-2.0370],\n",
      "        [ 0.1628],\n",
      "        [ 0.5029],\n",
      "        [ 1.2917],\n",
      "        [ 0.2077],\n",
      "        [ 0.4544],\n",
      "        [-0.5866],\n",
      "        [-0.6002],\n",
      "        [ 0.0579],\n",
      "        [ 1.1688],\n",
      "        [-1.4573],\n",
      "        [ 0.9577],\n",
      "        [-0.5731],\n",
      "        [-0.3985],\n",
      "        [-0.0322],\n",
      "        [ 1.2755]])\n"
     ]
    }
   ],
   "source": [
    "x = torch.randn(20, 10)\n",
    "y = torch.randn(20, 1)\n",
    "print(f'{x=} {y=}')"
   ]
  },
  {
   "cell_type": "markdown",
   "metadata": {},
   "source": [
    "Pass through model with x, we get predictions for y."
   ]
  },
  {
   "cell_type": "code",
   "execution_count": 6,
   "metadata": {},
   "outputs": [
    {
     "name": "stdout",
     "output_type": "stream",
     "text": [
      "tensor([[ 0.4510],\n",
      "        [-0.4237],\n",
      "        [-1.1375],\n",
      "        [-0.7424],\n",
      "        [-0.2288],\n",
      "        [-1.0232],\n",
      "        [-0.1169],\n",
      "        [ 0.4734],\n",
      "        [ 0.3439],\n",
      "        [-0.3617],\n",
      "        [-0.9265],\n",
      "        [-0.1807],\n",
      "        [-0.0681],\n",
      "        [-0.0300],\n",
      "        [ 1.0179],\n",
      "        [ 0.6545],\n",
      "        [-0.7629],\n",
      "        [-0.5349],\n",
      "        [-0.2827],\n",
      "        [ 0.2715]], grad_fn=<AddmmBackward0>)\n"
     ]
    }
   ],
   "source": [
    "pred_y = model(x)\n",
    "print(pred_y)"
   ]
  },
  {
   "cell_type": "markdown",
   "metadata": {},
   "source": [
    "**Mean Squared Error (MSE) Formula**\n",
    "\n",
    "The Mean Squared Error (MSE) measures the average squared difference between actual and predicted values:\n",
    "\n",
    "\n",
    "$MSE = \\frac{1}{n} \\sum_{i=1}^{n} (y_i - \\hat{y}_i)^2$\n",
    "\n",
    "A lower MSE indicates a better fit of the model.\n"
   ]
  },
  {
   "cell_type": "code",
   "execution_count": 7,
   "metadata": {},
   "outputs": [
    {
     "name": "stdout",
     "output_type": "stream",
     "text": [
      "tensor(0.8921, grad_fn=<MseLossBackward0>)\n"
     ]
    }
   ],
   "source": [
    "loss = torch.nn.functional.mse_loss(pred_y, y)\n",
    "print(loss)"
   ]
  },
  {
   "cell_type": "markdown",
   "metadata": {},
   "source": [
    "MSE from scratch"
   ]
  },
  {
   "cell_type": "code",
   "execution_count": 8,
   "metadata": {},
   "outputs": [
    {
     "data": {
      "text/plain": [
       "tensor(0.8921, grad_fn=<MeanBackward0>)"
      ]
     },
     "execution_count": 8,
     "metadata": {},
     "output_type": "execute_result"
    }
   ],
   "source": [
    "def mse_loss(pred_y, y):\n",
    "    return torch.mean((pred_y - y) ** 2)\n",
    "mse_loss(pred_y, y)"
   ]
  },
  {
   "cell_type": "markdown",
   "metadata": {},
   "source": [
    "Let's create 20 binary labels "
   ]
  },
  {
   "cell_type": "code",
   "execution_count": 7,
   "metadata": {},
   "outputs": [
    {
     "name": "stdout",
     "output_type": "stream",
     "text": [
      "tensor([[0.],\n",
      "        [0.],\n",
      "        [1.],\n",
      "        [0.],\n",
      "        [0.],\n",
      "        [0.],\n",
      "        [1.],\n",
      "        [1.],\n",
      "        [0.],\n",
      "        [0.],\n",
      "        [0.],\n",
      "        [0.],\n",
      "        [1.],\n",
      "        [1.],\n",
      "        [0.],\n",
      "        [0.],\n",
      "        [0.],\n",
      "        [0.],\n",
      "        [1.],\n",
      "        [1.]])\n"
     ]
    }
   ],
   "source": [
    "y = (torch.randn(20, 1) > 0).float()\n",
    "print(y)"
   ]
  },
  {
   "cell_type": "markdown",
   "metadata": {},
   "source": [
    "### Binary Cross Entropy with Logits (BCE with Logits)\n",
    "\n",
    "Binary Cross Entropy with Logits is used for binary classification tasks. Instead of working with probabilities, it takes raw model outputs (logits) and applies the **sigmoid function** internally for stability.\n",
    "\n",
    "#### **Formula:**\n",
    "$\n",
    "L = -\\frac{1}{n} \\sum_{i=1}^{n} \\left[ y_i \\log(\\sigma(\\hat{y}_i)) + (1 - y_i) \\log(1 - \\sigma(\\hat{y}_i)) \\right]\n",
    "$\n",
    "\n",
    "\n",
    "Using logits instead of probabilities improves numerical stability and gradient computations.\n"
   ]
  },
  {
   "cell_type": "code",
   "execution_count": 8,
   "metadata": {},
   "outputs": [
    {
     "name": "stdout",
     "output_type": "stream",
     "text": [
      "tensor(0.6922, grad_fn=<BinaryCrossEntropyWithLogitsBackward0>)\n"
     ]
    }
   ],
   "source": [
    "loss = torch.nn.functional.binary_cross_entropy_with_logits(pred_y, y)\n",
    "print(loss)"
   ]
  },
  {
   "cell_type": "markdown",
   "metadata": {},
   "source": [
    "Let's create a new model that takes in 10 inputs and outputs 3 different classes\n",
    "\n",
    "Let's also create some labels of classes 0 - 2"
   ]
  },
  {
   "cell_type": "code",
   "execution_count": 9,
   "metadata": {},
   "outputs": [
    {
     "name": "stdout",
     "output_type": "stream",
     "text": [
      "tensor([1, 1, 1, 1, 0, 2, 1, 2, 1, 1, 0, 1, 1, 1, 1, 2, 0, 0, 1, 1])\n"
     ]
    }
   ],
   "source": [
    "num_classes = 3\n",
    "model = torch.nn.Linear(10, num_classes)\n",
    "y = (torch.randn(20) > 0).long() + (torch.randn(20) > 0).long()\n",
    "print(y)"
   ]
  },
  {
   "cell_type": "markdown",
   "metadata": {},
   "source": [
    "### Cross Entropy Loss\n",
    "\n",
    "Cross Entropy is used for classification tasks to compare the predicted probability distribution with the true class labels.\n",
    "\n",
    "**Formula for a Single Sample:**\n",
    "\n",
    "$L = -\\sum_{i=1}^{C} y_i \\log(\\hat{y}_i)$\n",
    "\n",
    "**Formula for Multiple Samples:**\n",
    "\n",
    "$L = -\\frac{1}{n} \\sum_{j=1}^{n} \\sum_{i=1}^{C} y_{j,i} \\log(\\hat{y}_{j,i})$\n",
    "\n",
    "\n",
    "Cross entropy penalizes incorrect predictions more severely when the confidence in a wrong class is high.\n"
   ]
  },
  {
   "cell_type": "code",
   "execution_count": null,
   "metadata": {},
   "outputs": [
    {
     "name": "stdout",
     "output_type": "stream",
     "text": [
      "tensor(1.0760, grad_fn=<NllLossBackward0>)\n"
     ]
    }
   ],
   "source": [
    "pred_y = model(x)\n",
    "loss = torch.nn.functional.cross_entropy(pred_y, y)\n",
    "print(loss)"
   ]
  }
 ],
 "metadata": {
  "kernelspec": {
   "display_name": "base",
   "language": "python",
   "name": "python3"
  },
  "language_info": {
   "codemirror_mode": {
    "name": "ipython",
    "version": 3
   },
   "file_extension": ".py",
   "mimetype": "text/x-python",
   "name": "python",
   "nbconvert_exporter": "python",
   "pygments_lexer": "ipython3",
   "version": "3.12.3"
  }
 },
 "nbformat": 4,
 "nbformat_minor": 2
}
