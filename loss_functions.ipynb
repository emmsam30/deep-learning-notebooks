{
 "cells": [
  {
   "cell_type": "code",
   "execution_count": 2,
   "metadata": {},
   "outputs": [],
   "source": [
    "import torch"
   ]
  },
  {
   "cell_type": "code",
   "execution_count": 3,
   "metadata": {},
   "outputs": [],
   "source": [
    "model = torch.nn.Linear(10, 1)"
   ]
  },
  {
   "cell_type": "code",
   "execution_count": 6,
   "metadata": {},
   "outputs": [
    {
     "name": "stdout",
     "output_type": "stream",
     "text": [
      "x=tensor([[-6.5730e-01,  1.1809e-01, -8.2522e-01, -1.4412e+00,  1.1921e+00,\n",
      "          1.4686e+00,  1.6394e-01,  6.0197e-01, -1.1843e+00,  2.7415e-01],\n",
      "        [ 7.7028e-01, -1.1873e+00,  6.2441e-02,  1.3352e+00, -2.1453e-01,\n",
      "          6.3116e-01, -3.6455e-01, -1.7704e-02,  1.2703e+00,  8.9349e-01],\n",
      "        [-3.9517e-01,  4.9075e-01, -3.0538e-01, -1.8162e+00,  3.1262e-01,\n",
      "          4.9967e-01,  6.3155e-01, -9.8313e-01, -1.3401e+00,  4.2902e-01],\n",
      "        [-1.0603e+00, -4.6727e-01, -7.2097e-01, -1.1275e+00, -9.5027e-01,\n",
      "         -4.7162e-01,  1.2196e+00, -8.4572e-01,  5.1249e-01,  6.1929e-02],\n",
      "        [-1.8177e+00,  4.6612e-01, -9.9955e-01, -9.3522e-01, -2.1072e-01,\n",
      "          1.7697e-01,  3.8444e-01,  1.8035e+00, -7.1695e-01, -2.0488e-01],\n",
      "        [-1.7819e-02,  1.2501e-01,  1.1214e+00, -4.4731e-01, -7.9744e-01,\n",
      "         -5.9909e-01,  3.6898e-01, -7.9096e-01,  1.1368e+00,  8.4311e-01],\n",
      "        [ 1.3195e+00,  8.4285e-01,  7.2818e-01, -5.9617e-01,  6.6420e-01,\n",
      "          1.0336e+00, -5.6625e-01, -4.2284e-01, -4.5208e-02, -1.3307e+00],\n",
      "        [ 1.8318e+00,  1.3505e+00, -8.1243e-01,  2.5990e-01, -1.5784e+00,\n",
      "          8.2325e-01, -6.6123e-02, -1.0739e+00,  8.0870e-01,  2.9052e-01],\n",
      "        [-6.9999e-02, -3.0778e-01, -3.1407e-01, -7.3812e-01,  3.0075e-01,\n",
      "          7.2699e-01,  1.9789e+00,  2.3780e+00,  8.9428e-01,  3.7075e-01],\n",
      "        [ 1.1158e+00,  2.9970e+00,  1.1568e-01, -1.3561e+00,  1.0107e+00,\n",
      "         -8.5740e-01, -1.3534e+00, -2.7931e-01,  3.5760e-01, -2.1571e+00],\n",
      "        [ 3.9623e-01, -7.1247e-01,  8.5239e-02, -6.3339e-01, -1.1149e+00,\n",
      "          2.4457e-01,  3.9271e-01, -9.3575e-02,  7.2855e-01, -1.9999e-01],\n",
      "        [-1.2439e+00,  5.7733e-01,  1.0953e+00,  9.0721e-02,  4.0466e-01,\n",
      "          8.8862e-01, -1.0616e-01, -7.9570e-01,  1.3258e+00,  2.0184e+00],\n",
      "        [ 9.9534e-01, -8.7037e-01,  2.6001e-01,  1.6701e+00,  7.9674e-01,\n",
      "         -3.2058e-01, -4.7025e-01, -6.0069e-01,  1.3842e+00, -8.5819e-01],\n",
      "        [ 5.3566e-01,  1.7405e-01, -2.1322e-01,  9.0576e-01,  1.0454e+00,\n",
      "          6.6062e-01, -1.0438e+00,  2.3736e-01,  5.9323e-02,  2.5755e+00],\n",
      "        [ 9.3940e-01, -1.5106e-01, -1.1366e+00,  9.7741e-01, -2.0166e-01,\n",
      "         -6.1959e-01, -9.5640e-01, -7.1850e-01,  4.4453e-01, -3.8757e-02],\n",
      "        [ 1.1214e-01,  1.6790e+00,  3.1761e-01,  1.5759e+00, -7.0373e-01,\n",
      "         -9.1233e-01,  1.6557e+00, -7.5803e-02,  3.5065e-01,  1.2444e+00],\n",
      "        [ 1.5902e-01,  6.1159e-01, -3.3651e-02,  1.4107e-01,  1.1442e+00,\n",
      "          1.7966e-01,  4.0869e-01,  7.1262e-01, -2.2015e-01,  1.5614e-01],\n",
      "        [-5.3224e-01, -1.5825e+00, -1.4976e+00,  1.3726e-01, -2.0578e+00,\n",
      "         -2.5094e+00, -5.0576e-01,  2.7739e+00, -9.7814e-01, -4.0636e-01],\n",
      "        [-9.0442e-01, -1.2897e+00,  1.0216e+00,  8.6467e-01,  5.6124e-01,\n",
      "         -1.3286e-01, -2.4924e-01, -1.1852e+00,  3.7465e-02,  4.3540e-01],\n",
      "        [ 7.2685e-01,  1.2398e+00,  1.1497e-04, -1.1301e+00,  1.0942e+00,\n",
      "         -1.1008e+00,  4.7855e-01, -1.0209e-01,  5.8636e-01, -1.7607e+00]]) y=tensor([[ 2.0789],\n",
      "        [ 0.9291],\n",
      "        [-1.2661],\n",
      "        [-0.8287],\n",
      "        [-0.4078],\n",
      "        [-0.2780],\n",
      "        [-0.4870],\n",
      "        [ 1.3907],\n",
      "        [-0.1245],\n",
      "        [-1.2201],\n",
      "        [-0.3576],\n",
      "        [-0.8137],\n",
      "        [ 1.4871],\n",
      "        [-1.0158],\n",
      "        [ 0.6624],\n",
      "        [-0.1606],\n",
      "        [-1.0637],\n",
      "        [-0.3481],\n",
      "        [ 0.5690],\n",
      "        [-0.8419]])\n"
     ]
    }
   ],
   "source": [
    "x = torch.randn(20, 10)\n",
    "y = torch.randn(20, 1)\n",
    "print(f'{x=} {y=}')"
   ]
  },
  {
   "cell_type": "code",
   "execution_count": 8,
   "metadata": {},
   "outputs": [
    {
     "name": "stdout",
     "output_type": "stream",
     "text": [
      "tensor([[-0.0614],\n",
      "        [-0.2247],\n",
      "        [ 0.1690],\n",
      "        [ 0.7200],\n",
      "        [ 0.5917],\n",
      "        [ 0.3289],\n",
      "        [ 0.0827],\n",
      "        [ 0.2841],\n",
      "        [ 0.5551],\n",
      "        [-0.3508],\n",
      "        [ 0.4898],\n",
      "        [ 0.2272],\n",
      "        [-0.3268],\n",
      "        [-1.1392],\n",
      "        [-0.6167],\n",
      "        [ 0.6097],\n",
      "        [-0.1426],\n",
      "        [-0.2076],\n",
      "        [ 0.0206],\n",
      "        [-0.0318]], grad_fn=<AddmmBackward0>)\n"
     ]
    }
   ],
   "source": [
    "pred_y = model(x)\n",
    "print(pred_y)"
   ]
  },
  {
   "cell_type": "code",
   "execution_count": 10,
   "metadata": {},
   "outputs": [
    {
     "name": "stdout",
     "output_type": "stream",
     "text": [
      "tensor(1.1833, grad_fn=<MseLossBackward0>)\n"
     ]
    }
   ],
   "source": [
    "loss = torch.nn.functional.mse_loss(pred_y, y)\n",
    "print(loss)"
   ]
  },
  {
   "cell_type": "code",
   "execution_count": 11,
   "metadata": {},
   "outputs": [
    {
     "data": {
      "text/plain": [
       "tensor(1.1833, grad_fn=<MeanBackward0>)"
      ]
     },
     "execution_count": 11,
     "metadata": {},
     "output_type": "execute_result"
    }
   ],
   "source": [
    "def mse_loss(pred_y, y):\n",
    "    return torch.mean((pred_y - y) ** 2)\n",
    "mse_loss(pred_y, y)"
   ]
  },
  {
   "cell_type": "code",
   "execution_count": 12,
   "metadata": {},
   "outputs": [
    {
     "name": "stdout",
     "output_type": "stream",
     "text": [
      "tensor([[0.],\n",
      "        [1.],\n",
      "        [1.],\n",
      "        [1.],\n",
      "        [0.],\n",
      "        [1.],\n",
      "        [1.],\n",
      "        [0.],\n",
      "        [0.],\n",
      "        [1.],\n",
      "        [1.],\n",
      "        [0.],\n",
      "        [0.],\n",
      "        [1.],\n",
      "        [1.],\n",
      "        [0.],\n",
      "        [0.],\n",
      "        [0.],\n",
      "        [0.],\n",
      "        [0.]])\n"
     ]
    }
   ],
   "source": [
    "y = (torch.randn(20, 1) > 0).float()\n",
    "print(y)"
   ]
  },
  {
   "cell_type": "code",
   "execution_count": 13,
   "metadata": {},
   "outputs": [
    {
     "name": "stdout",
     "output_type": "stream",
     "text": [
      "tensor(0.7696, grad_fn=<BinaryCrossEntropyWithLogitsBackward0>)\n"
     ]
    }
   ],
   "source": [
    "loss = torch.nn.functional.binary_cross_entropy_with_logits(pred_y, y)\n",
    "print(loss)"
   ]
  },
  {
   "cell_type": "code",
   "execution_count": 17,
   "metadata": {},
   "outputs": [
    {
     "name": "stdout",
     "output_type": "stream",
     "text": [
      "tensor([1, 2, 2, 2, 0, 2, 1, 0, 1, 1, 0, 0, 1, 1, 2, 2, 2, 1, 1, 2])\n"
     ]
    }
   ],
   "source": [
    "num_classes = 3\n",
    "model = torch.nn.Linear(10, num_classes)\n",
    "y = (torch.randn(20) > 0).long() + (torch.randn(20) > 0).long()\n",
    "print(y)"
   ]
  },
  {
   "cell_type": "code",
   "execution_count": 19,
   "metadata": {},
   "outputs": [
    {
     "name": "stdout",
     "output_type": "stream",
     "text": [
      "tensor(1.0760, grad_fn=<NllLossBackward0>)\n"
     ]
    }
   ],
   "source": [
    "pred_y = model(x)\n",
    "loss = torch.nn.functional.cross_entropy(pred_y, y)\n",
    "print(loss)"
   ]
  }
 ],
 "metadata": {
  "kernelspec": {
   "display_name": "base",
   "language": "python",
   "name": "python3"
  },
  "language_info": {
   "codemirror_mode": {
    "name": "ipython",
    "version": 3
   },
   "file_extension": ".py",
   "mimetype": "text/x-python",
   "name": "python",
   "nbconvert_exporter": "python",
   "pygments_lexer": "ipython3",
   "version": "3.12.3"
  }
 },
 "nbformat": 4,
 "nbformat_minor": 2
}
